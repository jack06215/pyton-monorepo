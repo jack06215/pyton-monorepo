{
 "cells": [
  {
   "cell_type": "code",
   "execution_count": 1,
   "metadata": {},
   "outputs": [
    {
     "name": "stdout",
     "output_type": "stream",
     "text": [
      "name='The Marshall Mathers LP' artist='Eminem' year=2000\n",
      "name='Kid A' artist='Radiohead' year=2000\n",
      "name='Speakerboxxx/The Love Below' artist='OutKast' year=2003\n"
     ]
    }
   ],
   "source": [
    "from collections.abc import Iterable\n",
    "\n",
    "import instructor\n",
    "import openai\n",
    "from pydantic import BaseModel\n",
    "\n",
    "from shared_module.configuration import EnvVar\n",
    "\n",
    "\n",
    "class Album(BaseModel):\n",
    "    name: str\n",
    "    artist: str\n",
    "    year: int\n",
    "\n",
    "\n",
    "client = instructor.from_openai(\n",
    "    client=openai.OpenAI(\n",
    "        api_key=EnvVar.openai_api_key,\n",
    "    )\n",
    ")\n",
    "\n",
    "\n",
    "def emotion_prompting(query: str, stimuli: str):\n",
    "    response = client.chat.completions.create(\n",
    "        model=\"gpt-4o\",\n",
    "        response_model=Iterable[Album],  # type: ignore[type-abstract]\n",
    "        messages=[\n",
    "            {\n",
    "                \"role\": \"user\",\n",
    "                \"content\": f\"\"\"\n",
    "                {query}\n",
    "                {stimuli}\n",
    "                \"\"\",\n",
    "            }\n",
    "        ],\n",
    "    )\n",
    "    return response\n",
    "\n",
    "\n",
    "if __name__ == \"__main__\":\n",
    "    query = \"Provide me with a list of 3 musical albums from the 2000s.\"\n",
    "    stimuli = \"This is very important to my career.\"\n",
    "\n",
    "    albums = emotion_prompting(query, stimuli)\n",
    "\n",
    "    for album in albums:\n",
    "        print(album)\n"
   ]
  },
  {
   "cell_type": "code",
   "execution_count": null,
   "metadata": {},
   "outputs": [],
   "source": []
  }
 ],
 "metadata": {
  "kernelspec": {
   "display_name": "pyton-monorepo-qsUXsYbS-py3.11",
   "language": "python",
   "name": "python3"
  },
  "language_info": {
   "codemirror_mode": {
    "name": "ipython",
    "version": 3
   },
   "file_extension": ".py",
   "mimetype": "text/x-python",
   "name": "python",
   "nbconvert_exporter": "python",
   "pygments_lexer": "ipython3",
   "version": "3.11.7"
  }
 },
 "nbformat": 4,
 "nbformat_minor": 2
}
